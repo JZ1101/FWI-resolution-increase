{
 "cells": [
  {
   "cell_type": "markdown",
   "metadata": {},
   "source": [
    "# FWI Data Exploration\n",
    "\n",
    "Exploratory analysis of the Fire Weather Index dataset for super-resolution research."
   ]
  },
  {
   "cell_type": "code",
   "execution_count": null,
   "metadata": {},
   "outputs": [],
   "source": [
    "import sys\n",
    "sys.path.append('../src')\n",
    "\n",
    "import numpy as np\n",
    "import matplotlib.pyplot as plt\n",
    "import xarray as xr\n",
    "from data_processing import FWIDataProcessor\n",
    "\n",
    "%matplotlib inline"
   ]
  },
  {
   "cell_type": "code",
   "execution_count": null,
   "metadata": {},
   "outputs": [],
   "source": [
    "# Initialize data processor\n",
    "processor = FWIDataProcessor('../configs/params.yaml')\n",
    "\n",
    "# Load dataset\n",
    "dataset = processor.load_unified_dataset()\n",
    "print(f\"Dataset dimensions: {dataset.dims}\")\n",
    "print(f\"Variables: {list(dataset.data_vars)}\")"
   ]
  },
  {
   "cell_type": "code",
   "execution_count": null,
   "metadata": {},
   "outputs": [],
   "source": [
    "# Plot FWI statistics\n",
    "if 'fwi' in dataset.data_vars:\n",
    "    fwi_data = dataset['fwi']\n",
    "    \n",
    "    fig, axes = plt.subplots(2, 2, figsize=(12, 10))\n",
    "    \n",
    "    # Sample day\n",
    "    sample_day = fwi_data.isel(time=100)\n",
    "    im1 = axes[0,0].imshow(sample_day, cmap='RdYlBu_r', vmin=0, vmax=50)\n",
    "    axes[0,0].set_title('FWI - Sample Day')\n",
    "    plt.colorbar(im1, ax=axes[0,0])\n",
    "    \n",
    "    # Time series at a point\n",
    "    point_ts = fwi_data.isel(latitude=300, longitude=180)\n",
    "    axes[0,1].plot(point_ts.time, point_ts)\n",
    "    axes[0,1].set_title('FWI Time Series - Sample Location')\n",
    "    axes[0,1].set_xlabel('Date')\n",
    "    axes[0,1].set_ylabel('FWI')\n",
    "    \n",
    "    # Distribution\n",
    "    fwi_values = fwi_data.values.flatten()\n",
    "    fwi_values = fwi_values[~np.isnan(fwi_values)]\n",
    "    axes[1,0].hist(fwi_values, bins=50, alpha=0.7)\n",
    "    axes[1,0].set_title('FWI Distribution')\n",
    "    axes[1,0].set_xlabel('FWI Value')\n",
    "    axes[1,0].set_ylabel('Frequency')\n",
    "    \n",
    "    # Statistics\n",
    "    stats_text = f\"\"\"\n",
    "    Statistics:\n",
    "    Mean: {np.nanmean(fwi_values):.2f}\n",
    "    Std: {np.nanstd(fwi_values):.2f}\n",
    "    Min: {np.nanmin(fwi_values):.2f}\n",
    "    Max: {np.nanmax(fwi_values):.2f}\n",
    "    Median: {np.nanmedian(fwi_values):.2f}\n",
    "    \n",
    "    Dataset Info:\n",
    "    Shape: {fwi_data.shape}\n",
    "    Non-NaN: {np.sum(~np.isnan(fwi_values)):,}\n",
    "    NaN: {np.sum(np.isnan(fwi_data.values)):,}\n",
    "    \"\"\"\n",
    "    \n",
    "    axes[1,1].text(0.1, 0.5, stats_text, transform=axes[1,1].transAxes, \n",
    "                   fontsize=10, verticalalignment='center')\n",
    "    axes[1,1].set_title('Dataset Statistics')\n",
    "    axes[1,1].axis('off')\n",
    "    \n",
    "    plt.tight_layout()\n",
    "    plt.show()"
   ]
  },
  {
   "cell_type": "code",
   "execution_count": null,
   "metadata": {},
   "outputs": [],
   "source": [
    "# Validate fire detection\n",
    "fire_detected = processor.validate_fire_detection(dataset)\n",
    "print(f\"Pedrógão Grande fire detection: {'✅' if fire_detected else '❌'}\")"
   ]
  }
 ],
 "metadata": {
  "kernelspec": {
   "display_name": "Python 3",
   "language": "python",
   "name": "python3"
  },
  "language_info": {
   "codemirror_mode": {
    "name": "ipython",
    "version": 3
   },
   "file_extension": ".py",
   "mimetype": "text/x-python",
   "name": "python",
   "nbconvert_exporter": "python",
   "pygments_lexer": "ipython3",
   "version": "3.9.0"
  }
 },
 "nbformat": 4,
 "nbformat_minor": 4
}